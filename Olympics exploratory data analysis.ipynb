{
 "cells": [
  {
   "cell_type": "code",
   "execution_count": 1,
   "id": "636c5da4",
   "metadata": {},
   "outputs": [],
   "source": [
    "#import necessary libraries\n",
    "import pandas as pd\n",
    "import numpy as np\n",
    "import matplotlib.pyplot as plt\n",
    "import seaborn as sns\n",
    "%matplotlib inline"
   ]
  },
  {
   "cell_type": "markdown",
   "id": "8386f551",
   "metadata": {},
   "source": [
    "### Load Dataset"
   ]
  },
  {
   "cell_type": "code",
   "execution_count": 2,
   "id": "14b482c5",
   "metadata": {},
   "outputs": [],
   "source": [
    "olympics_event=pd.read_csv(r\"C:\\Users\\user\\Documents\\olympic_events.csv\")"
   ]
  },
  {
   "cell_type": "code",
   "execution_count": 3,
   "id": "a719a480",
   "metadata": {},
   "outputs": [],
   "source": [
    "noc_region=pd.read_csv(r\"C:\\Users\\user\\Documents\\data\\noc_regions.csv\")"
   ]
  },
  {
   "cell_type": "markdown",
   "id": "8d34ce75",
   "metadata": {},
   "source": [
    "### Merge the datasets"
   ]
  },
  {
   "cell_type": "code",
   "execution_count": 4,
   "id": "2fbad39d",
   "metadata": {},
   "outputs": [],
   "source": [
    "olympics=pd.merge(olympics_event,noc_region,on='NOC',how='left')"
   ]
  },
  {
   "cell_type": "code",
   "execution_count": 5,
   "id": "25280a99",
   "metadata": {},
   "outputs": [
    {
     "data": {
      "text/plain": [
       "(271116, 16)"
      ]
     },
     "execution_count": 5,
     "metadata": {},
     "output_type": "execute_result"
    }
   ],
   "source": [
    "#check number of rows and columns\n",
    "olympics.shape"
   ]
  },
  {
   "cell_type": "code",
   "execution_count": 6,
   "id": "81b080a2",
   "metadata": {},
   "outputs": [
    {
     "name": "stdout",
     "output_type": "stream",
     "text": [
      "<class 'pandas.core.frame.DataFrame'>\n",
      "Int64Index: 271116 entries, 0 to 271115\n",
      "Data columns (total 16 columns):\n",
      " #   Column  Non-Null Count   Dtype  \n",
      "---  ------  --------------   -----  \n",
      " 0   ID      271116 non-null  int64  \n",
      " 1   Name    271116 non-null  object \n",
      " 2   Sex     271116 non-null  object \n",
      " 3   Age     261642 non-null  float64\n",
      " 4   Height  210945 non-null  float64\n",
      " 5   Weight  208241 non-null  float64\n",
      " 6   Team    271116 non-null  object \n",
      " 7   NOC     271116 non-null  object \n",
      " 8   Games   271116 non-null  object \n",
      " 9   Year    271116 non-null  int64  \n",
      " 10  Season  271116 non-null  object \n",
      " 11  City    271116 non-null  object \n",
      " 12  Sport   271116 non-null  object \n",
      " 13  Event   271116 non-null  object \n",
      " 14  Medal   39783 non-null   object \n",
      " 15  region  270767 non-null  object \n",
      "dtypes: float64(3), int64(2), object(11)\n",
      "memory usage: 35.2+ MB\n"
     ]
    }
   ],
   "source": [
    "olympics.info()"
   ]
  },
  {
   "cell_type": "markdown",
   "id": "ac3f13e8",
   "metadata": {},
   "source": [
    "### Data cleaning"
   ]
  },
  {
   "cell_type": "code",
   "execution_count": 7,
   "id": "29b215c0",
   "metadata": {},
   "outputs": [
    {
     "data": {
      "text/plain": [
       "ID             0\n",
       "Name           0\n",
       "Sex            0\n",
       "Age         9474\n",
       "Height     60171\n",
       "Weight     62875\n",
       "Team           0\n",
       "NOC            0\n",
       "Games          0\n",
       "Year           0\n",
       "Season         0\n",
       "City           0\n",
       "Sport          0\n",
       "Event          0\n",
       "Medal     231333\n",
       "region       349\n",
       "dtype: int64"
      ]
     },
     "execution_count": 7,
     "metadata": {},
     "output_type": "execute_result"
    }
   ],
   "source": [
    "olympics.isnull().sum()"
   ]
  },
  {
   "cell_type": "code",
   "execution_count": 8,
   "id": "747113bb",
   "metadata": {},
   "outputs": [],
   "source": [
    "#deal with missing values\n",
    "olympics['Age'].fillna(method='ffill',inplace=True)\n",
    "olympics['Height'].fillna(method='ffill',inplace=True)\n",
    "olympics['Weight'].fillna(method='ffill',inplace=True)\n",
    "olympics['Medal'].fillna('No medal',inplace=True)\n",
    "olympics['region'].fillna('Not given',inplace=True)"
   ]
  },
  {
   "cell_type": "code",
   "execution_count": 9,
   "id": "494183f5",
   "metadata": {},
   "outputs": [
    {
     "data": {
      "text/plain": [
       "ID        0\n",
       "Name      0\n",
       "Sex       0\n",
       "Age       0\n",
       "Height    0\n",
       "Weight    0\n",
       "Team      0\n",
       "NOC       0\n",
       "Games     0\n",
       "Year      0\n",
       "Season    0\n",
       "City      0\n",
       "Sport     0\n",
       "Event     0\n",
       "Medal     0\n",
       "region    0\n",
       "dtype: int64"
      ]
     },
     "execution_count": 9,
     "metadata": {},
     "output_type": "execute_result"
    }
   ],
   "source": [
    "#check if null is still present\n",
    "olympics.isnull().sum()"
   ]
  },
  {
   "cell_type": "code",
   "execution_count": 10,
   "id": "9e99f93d",
   "metadata": {},
   "outputs": [],
   "source": [
    "#convert Age,Height and weight to int\n",
    "olympics['Age']=olympics['Age'].apply(np.int64)\n",
    "olympics['Height']=olympics['Height'].apply(np.int64)\n",
    "olympics['Weight']=olympics['Weight'].apply(np.int64)"
   ]
  },
  {
   "cell_type": "code",
   "execution_count": 11,
   "id": "1e53e145",
   "metadata": {},
   "outputs": [
    {
     "data": {
      "text/html": [
       "<div>\n",
       "<style scoped>\n",
       "    .dataframe tbody tr th:only-of-type {\n",
       "        vertical-align: middle;\n",
       "    }\n",
       "\n",
       "    .dataframe tbody tr th {\n",
       "        vertical-align: top;\n",
       "    }\n",
       "\n",
       "    .dataframe thead th {\n",
       "        text-align: right;\n",
       "    }\n",
       "</style>\n",
       "<table border=\"1\" class=\"dataframe\">\n",
       "  <thead>\n",
       "    <tr style=\"text-align: right;\">\n",
       "      <th></th>\n",
       "      <th>ID</th>\n",
       "      <th>Age</th>\n",
       "      <th>Height</th>\n",
       "      <th>Weight</th>\n",
       "      <th>Year</th>\n",
       "    </tr>\n",
       "  </thead>\n",
       "  <tbody>\n",
       "    <tr>\n",
       "      <th>count</th>\n",
       "      <td>271116.000000</td>\n",
       "      <td>271116.000000</td>\n",
       "      <td>271116.000000</td>\n",
       "      <td>271116.000000</td>\n",
       "      <td>271116.000000</td>\n",
       "    </tr>\n",
       "    <tr>\n",
       "      <th>mean</th>\n",
       "      <td>68248.954396</td>\n",
       "      <td>25.586199</td>\n",
       "      <td>175.649169</td>\n",
       "      <td>71.092562</td>\n",
       "      <td>1978.378480</td>\n",
       "    </tr>\n",
       "    <tr>\n",
       "      <th>std</th>\n",
       "      <td>39022.286345</td>\n",
       "      <td>6.398401</td>\n",
       "      <td>10.454339</td>\n",
       "      <td>14.339696</td>\n",
       "      <td>29.877632</td>\n",
       "    </tr>\n",
       "    <tr>\n",
       "      <th>min</th>\n",
       "      <td>1.000000</td>\n",
       "      <td>10.000000</td>\n",
       "      <td>127.000000</td>\n",
       "      <td>25.000000</td>\n",
       "      <td>1896.000000</td>\n",
       "    </tr>\n",
       "    <tr>\n",
       "      <th>25%</th>\n",
       "      <td>34643.000000</td>\n",
       "      <td>21.000000</td>\n",
       "      <td>168.000000</td>\n",
       "      <td>61.000000</td>\n",
       "      <td>1960.000000</td>\n",
       "    </tr>\n",
       "    <tr>\n",
       "      <th>50%</th>\n",
       "      <td>68205.000000</td>\n",
       "      <td>25.000000</td>\n",
       "      <td>175.000000</td>\n",
       "      <td>70.000000</td>\n",
       "      <td>1988.000000</td>\n",
       "    </tr>\n",
       "    <tr>\n",
       "      <th>75%</th>\n",
       "      <td>102097.250000</td>\n",
       "      <td>28.000000</td>\n",
       "      <td>183.000000</td>\n",
       "      <td>80.000000</td>\n",
       "      <td>2002.000000</td>\n",
       "    </tr>\n",
       "    <tr>\n",
       "      <th>max</th>\n",
       "      <td>135571.000000</td>\n",
       "      <td>97.000000</td>\n",
       "      <td>226.000000</td>\n",
       "      <td>214.000000</td>\n",
       "      <td>2016.000000</td>\n",
       "    </tr>\n",
       "  </tbody>\n",
       "</table>\n",
       "</div>"
      ],
      "text/plain": [
       "                  ID            Age         Height         Weight  \\\n",
       "count  271116.000000  271116.000000  271116.000000  271116.000000   \n",
       "mean    68248.954396      25.586199     175.649169      71.092562   \n",
       "std     39022.286345       6.398401      10.454339      14.339696   \n",
       "min         1.000000      10.000000     127.000000      25.000000   \n",
       "25%     34643.000000      21.000000     168.000000      61.000000   \n",
       "50%     68205.000000      25.000000     175.000000      70.000000   \n",
       "75%    102097.250000      28.000000     183.000000      80.000000   \n",
       "max    135571.000000      97.000000     226.000000     214.000000   \n",
       "\n",
       "                Year  \n",
       "count  271116.000000  \n",
       "mean     1978.378480  \n",
       "std        29.877632  \n",
       "min      1896.000000  \n",
       "25%      1960.000000  \n",
       "50%      1988.000000  \n",
       "75%      2002.000000  \n",
       "max      2016.000000  "
      ]
     },
     "execution_count": 11,
     "metadata": {},
     "output_type": "execute_result"
    }
   ],
   "source": [
    "olympics.describe()"
   ]
  },
  {
   "cell_type": "code",
   "execution_count": 12,
   "id": "501d7a42",
   "metadata": {},
   "outputs": [
    {
     "data": {
      "text/html": [
       "<div>\n",
       "<style scoped>\n",
       "    .dataframe tbody tr th:only-of-type {\n",
       "        vertical-align: middle;\n",
       "    }\n",
       "\n",
       "    .dataframe tbody tr th {\n",
       "        vertical-align: top;\n",
       "    }\n",
       "\n",
       "    .dataframe thead th {\n",
       "        text-align: right;\n",
       "    }\n",
       "</style>\n",
       "<table border=\"1\" class=\"dataframe\">\n",
       "  <thead>\n",
       "    <tr style=\"text-align: right;\">\n",
       "      <th></th>\n",
       "      <th>ID</th>\n",
       "      <th>Name</th>\n",
       "      <th>Sex</th>\n",
       "      <th>Age</th>\n",
       "      <th>Height</th>\n",
       "      <th>Weight</th>\n",
       "      <th>Team</th>\n",
       "      <th>NOC</th>\n",
       "      <th>Games</th>\n",
       "      <th>Year</th>\n",
       "      <th>Season</th>\n",
       "      <th>City</th>\n",
       "      <th>Sport</th>\n",
       "      <th>Event</th>\n",
       "      <th>Medal</th>\n",
       "      <th>region</th>\n",
       "    </tr>\n",
       "  </thead>\n",
       "  <tbody>\n",
       "    <tr>\n",
       "      <th>0</th>\n",
       "      <td>1</td>\n",
       "      <td>A Dijiang</td>\n",
       "      <td>M</td>\n",
       "      <td>24</td>\n",
       "      <td>180</td>\n",
       "      <td>80</td>\n",
       "      <td>China</td>\n",
       "      <td>CHN</td>\n",
       "      <td>1992 Summer</td>\n",
       "      <td>1992</td>\n",
       "      <td>Summer</td>\n",
       "      <td>Barcelona</td>\n",
       "      <td>Basketball</td>\n",
       "      <td>Basketball Men's Basketball</td>\n",
       "      <td>No medal</td>\n",
       "      <td>China</td>\n",
       "    </tr>\n",
       "    <tr>\n",
       "      <th>1</th>\n",
       "      <td>2</td>\n",
       "      <td>A Lamusi</td>\n",
       "      <td>M</td>\n",
       "      <td>23</td>\n",
       "      <td>170</td>\n",
       "      <td>60</td>\n",
       "      <td>China</td>\n",
       "      <td>CHN</td>\n",
       "      <td>2012 Summer</td>\n",
       "      <td>2012</td>\n",
       "      <td>Summer</td>\n",
       "      <td>London</td>\n",
       "      <td>Judo</td>\n",
       "      <td>Judo Men's Extra-Lightweight</td>\n",
       "      <td>No medal</td>\n",
       "      <td>China</td>\n",
       "    </tr>\n",
       "    <tr>\n",
       "      <th>2</th>\n",
       "      <td>3</td>\n",
       "      <td>Gunnar Nielsen Aaby</td>\n",
       "      <td>M</td>\n",
       "      <td>24</td>\n",
       "      <td>170</td>\n",
       "      <td>60</td>\n",
       "      <td>Denmark</td>\n",
       "      <td>DEN</td>\n",
       "      <td>1920 Summer</td>\n",
       "      <td>1920</td>\n",
       "      <td>Summer</td>\n",
       "      <td>Antwerpen</td>\n",
       "      <td>Football</td>\n",
       "      <td>Football Men's Football</td>\n",
       "      <td>No medal</td>\n",
       "      <td>Denmark</td>\n",
       "    </tr>\n",
       "    <tr>\n",
       "      <th>3</th>\n",
       "      <td>4</td>\n",
       "      <td>Edgar Lindenau Aabye</td>\n",
       "      <td>M</td>\n",
       "      <td>34</td>\n",
       "      <td>170</td>\n",
       "      <td>60</td>\n",
       "      <td>Denmark/Sweden</td>\n",
       "      <td>DEN</td>\n",
       "      <td>1900 Summer</td>\n",
       "      <td>1900</td>\n",
       "      <td>Summer</td>\n",
       "      <td>Paris</td>\n",
       "      <td>Tug-Of-War</td>\n",
       "      <td>Tug-Of-War Men's Tug-Of-War</td>\n",
       "      <td>Gold</td>\n",
       "      <td>Denmark</td>\n",
       "    </tr>\n",
       "    <tr>\n",
       "      <th>4</th>\n",
       "      <td>5</td>\n",
       "      <td>Christine Jacoba Aaftink</td>\n",
       "      <td>F</td>\n",
       "      <td>21</td>\n",
       "      <td>185</td>\n",
       "      <td>82</td>\n",
       "      <td>Netherlands</td>\n",
       "      <td>NED</td>\n",
       "      <td>1988 Winter</td>\n",
       "      <td>1988</td>\n",
       "      <td>Winter</td>\n",
       "      <td>Calgary</td>\n",
       "      <td>Speed Skating</td>\n",
       "      <td>Speed Skating Women's 500 metres</td>\n",
       "      <td>No medal</td>\n",
       "      <td>Netherlands</td>\n",
       "    </tr>\n",
       "  </tbody>\n",
       "</table>\n",
       "</div>"
      ],
      "text/plain": [
       "   ID                      Name Sex  Age  Height  Weight            Team  NOC  \\\n",
       "0   1                 A Dijiang   M   24     180      80           China  CHN   \n",
       "1   2                  A Lamusi   M   23     170      60           China  CHN   \n",
       "2   3       Gunnar Nielsen Aaby   M   24     170      60         Denmark  DEN   \n",
       "3   4      Edgar Lindenau Aabye   M   34     170      60  Denmark/Sweden  DEN   \n",
       "4   5  Christine Jacoba Aaftink   F   21     185      82     Netherlands  NED   \n",
       "\n",
       "         Games  Year  Season       City          Sport  \\\n",
       "0  1992 Summer  1992  Summer  Barcelona     Basketball   \n",
       "1  2012 Summer  2012  Summer     London           Judo   \n",
       "2  1920 Summer  1920  Summer  Antwerpen       Football   \n",
       "3  1900 Summer  1900  Summer      Paris     Tug-Of-War   \n",
       "4  1988 Winter  1988  Winter    Calgary  Speed Skating   \n",
       "\n",
       "                              Event     Medal       region  \n",
       "0       Basketball Men's Basketball  No medal        China  \n",
       "1      Judo Men's Extra-Lightweight  No medal        China  \n",
       "2           Football Men's Football  No medal      Denmark  \n",
       "3       Tug-Of-War Men's Tug-Of-War      Gold      Denmark  \n",
       "4  Speed Skating Women's 500 metres  No medal  Netherlands  "
      ]
     },
     "execution_count": 12,
     "metadata": {},
     "output_type": "execute_result"
    }
   ],
   "source": [
    "olympics.head()"
   ]
  },
  {
   "cell_type": "code",
   "execution_count": 13,
   "id": "ff910bab",
   "metadata": {},
   "outputs": [],
   "source": [
    "#drop duplicate rows\n",
    "olympics=olympics.drop_duplicates(keep='first')"
   ]
  },
  {
   "cell_type": "code",
   "execution_count": 14,
   "id": "8d50385b",
   "metadata": {},
   "outputs": [
    {
     "data": {
      "text/plain": [
       "(269731, 16)"
      ]
     },
     "execution_count": 14,
     "metadata": {},
     "output_type": "execute_result"
    }
   ],
   "source": [
    "olympics.shape"
   ]
  },
  {
   "cell_type": "markdown",
   "id": "a4cdaa70",
   "metadata": {},
   "source": [
    "### Exploratory Data Analysis"
   ]
  },
  {
   "cell_type": "markdown",
   "id": "2b461356",
   "metadata": {},
   "source": [
    "### How many olympic games have been held so far from 2016"
   ]
  },
  {
   "cell_type": "code",
   "execution_count": 15,
   "id": "7607e3d4",
   "metadata": {},
   "outputs": [
    {
     "data": {
      "text/plain": [
       "51"
      ]
     },
     "execution_count": 15,
     "metadata": {},
     "output_type": "execute_result"
    }
   ],
   "source": [
    "no_of_games=olympics['Games'].nunique()\n",
    "no_of_games "
   ]
  },
  {
   "cell_type": "markdown",
   "id": "3954cf14",
   "metadata": {},
   "source": [
    "### List down all olympic games held so far"
   ]
  },
  {
   "cell_type": "code",
   "execution_count": 16,
   "id": "a3073bc9",
   "metadata": {},
   "outputs": [
    {
     "data": {
      "text/plain": [
       "array(['1992 Summer', '2012 Summer', '1920 Summer', '1900 Summer',\n",
       "       '1988 Winter', '1992 Winter', '1994 Winter', '1932 Summer',\n",
       "       '2002 Winter', '1952 Summer', '1980 Winter', '2000 Summer',\n",
       "       '1996 Summer', '1912 Summer', '1924 Summer', '2014 Winter',\n",
       "       '1948 Summer', '1998 Winter', '2006 Winter', '2008 Summer',\n",
       "       '2016 Summer', '2004 Summer', '1960 Winter', '1964 Winter',\n",
       "       '1984 Winter', '1984 Summer', '1968 Summer', '1972 Summer',\n",
       "       '1988 Summer', '1936 Summer', '1952 Winter', '1956 Winter',\n",
       "       '1956 Summer', '1960 Summer', '1928 Summer', '1976 Summer',\n",
       "       '1980 Summer', '1964 Summer', '2010 Winter', '1968 Winter',\n",
       "       '1906 Summer', '1972 Winter', '1976 Winter', '1924 Winter',\n",
       "       '1904 Summer', '1928 Winter', '1908 Summer', '1948 Winter',\n",
       "       '1932 Winter', '1936 Winter', '1896 Summer'], dtype=object)"
      ]
     },
     "execution_count": 16,
     "metadata": {},
     "output_type": "execute_result"
    }
   ],
   "source": [
    "olympi_games=olympics['Games'].unique()\n",
    "olympi_games"
   ]
  },
  {
   "cell_type": "markdown",
   "id": "ac368ff9",
   "metadata": {},
   "source": [
    "### Mention the total no of nations who participated in each olympic game"
   ]
  },
  {
   "cell_type": "code",
   "execution_count": 17,
   "id": "7b2f3d15",
   "metadata": {},
   "outputs": [
    {
     "data": {
      "text/plain": [
       "Games\n",
       "1896 Summer     12\n",
       "1904 Summer     14\n",
       "1932 Winter     17\n",
       "1924 Winter     19\n",
       "1906 Summer     20\n",
       "1908 Summer     22\n",
       "1928 Winter     25\n",
       "1948 Winter     28\n",
       "1936 Winter     28\n",
       "1912 Summer     29\n",
       "1920 Summer     29\n",
       "1960 Winter     30\n",
       "1952 Winter     30\n",
       "1900 Summer     31\n",
       "1956 Winter     32\n",
       "1972 Winter     34\n",
       "1968 Winter     36\n",
       "1980 Winter     36\n",
       "1964 Winter     36\n",
       "1976 Winter     36\n",
       "1924 Summer     45\n",
       "1928 Summer     46\n",
       "1932 Summer     47\n",
       "1984 Winter     48\n",
       "1936 Summer     49\n",
       "1988 Winter     56\n",
       "1948 Summer     59\n",
       "1992 Winter     64\n",
       "1994 Winter     67\n",
       "1952 Summer     67\n",
       "1956 Summer     71\n",
       "1998 Winter     72\n",
       "2002 Winter     76\n",
       "2006 Winter     78\n",
       "1980 Summer     80\n",
       "2010 Winter     81\n",
       "1960 Summer     83\n",
       "2014 Winter     88\n",
       "1976 Summer     91\n",
       "1964 Summer     93\n",
       "1968 Summer    111\n",
       "1972 Summer    120\n",
       "1984 Summer    139\n",
       "1988 Summer    156\n",
       "1992 Summer    168\n",
       "1996 Summer    196\n",
       "2000 Summer    199\n",
       "2004 Summer    200\n",
       "2008 Summer    203\n",
       "2012 Summer    204\n",
       "2016 Summer    206\n",
       "Name: region, dtype: int64"
      ]
     },
     "execution_count": 17,
     "metadata": {},
     "output_type": "execute_result"
    }
   ],
   "source": [
    "nations_participated=olympics.groupby('Games').nunique().sort_values(by='region')['region']\n",
    "nations_participated"
   ]
  },
  {
   "cell_type": "markdown",
   "id": "130bc23c",
   "metadata": {},
   "source": [
    "### Which year was the highest and lowest no of countries participating olympics"
   ]
  },
  {
   "cell_type": "code",
   "execution_count": 18,
   "id": "58f9a5b7",
   "metadata": {},
   "outputs": [
    {
     "data": {
      "text/plain": [
       "Year\n",
       "2016    206\n",
       "Name: region, dtype: int64"
      ]
     },
     "execution_count": 18,
     "metadata": {},
     "output_type": "execute_result"
    }
   ],
   "source": [
    "year_with_highest_number_of_countries=olympics.groupby('Year').nunique().sort_values(by='region',ascending=False)['region'][:1]\n",
    "year_with_highest_number_of_countries"
   ]
  },
  {
   "cell_type": "code",
   "execution_count": 19,
   "id": "7b278a21",
   "metadata": {},
   "outputs": [
    {
     "data": {
      "text/plain": [
       "Year\n",
       "1896    12\n",
       "Name: region, dtype: int64"
      ]
     },
     "execution_count": 19,
     "metadata": {},
     "output_type": "execute_result"
    }
   ],
   "source": [
    "#lowest\n",
    "year_with_lowest_number_of_countries=olympics.groupby('Year').nunique().sort_values(by='region')['region'][:1]\n",
    "year_with_lowest_number_of_countries"
   ]
  },
  {
   "cell_type": "markdown",
   "id": "8e95ea7b",
   "metadata": {},
   "source": [
    "### Which nation has participated in all of the olympic games"
   ]
  },
  {
   "cell_type": "code",
   "execution_count": 20,
   "id": "dfd0f69b",
   "metadata": {},
   "outputs": [
    {
     "data": {
      "text/plain": [
       "region\n",
       "Italy          51\n",
       "France         51\n",
       "Switzerland    51\n",
       "UK             51\n",
       "Austria        50\n",
       "Name: Games, dtype: int64"
      ]
     },
     "execution_count": 20,
     "metadata": {},
     "output_type": "execute_result"
    }
   ],
   "source": [
    "nation_in_all_games=olympics.groupby('region').nunique().sort_values(by='Games',ascending=False)['Games'][:5]\n",
    "\n",
    "nation_in_all_games"
   ]
  },
  {
   "cell_type": "markdown",
   "id": "35a77089",
   "metadata": {},
   "source": [
    "### Age distribution of the participants"
   ]
  },
  {
   "cell_type": "code",
   "execution_count": 24,
   "id": "8e8367a6",
   "metadata": {},
   "outputs": [
    {
     "data": {
      "image/png": "[encoded data removed]",
      "text/plain": [
       "<Figure size 864x432 with 1 Axes>"
      ]
     },
     "metadata": {
      "needs_background": "light"
     },
     "output_type": "display_data"
    }
   ],
   "source": [
    "plt.figure(figsize=(12,6))\n",
    "plt.title('Age distribution of athletes')\n",
    "plt.xlabel('Age')\n",
    "plt.ylabel('Number of participants')\n",
    "plt.hist(olympics.Age, color='purple', edgecolor='white');"
   ]
  },
  {
   "cell_type": "markdown",
   "id": "120608be",
   "metadata": {},
   "source": [
    "\n",
    "### Identify the sport which was played in all summer olympics\n"
   ]
  },
  {
   "cell_type": "code",
   "execution_count": 25,
   "id": "443043de",
   "metadata": {},
   "outputs": [
    {
     "data": {
      "text/plain": [
       "array(['Basketball', 'Judo', 'Football', 'Tug-Of-War', 'Athletics',\n",
       "       'Swimming', 'Badminton', 'Sailing', 'Gymnastics',\n",
       "       'Art Competitions', 'Handball', 'Weightlifting', 'Wrestling',\n",
       "       'Water Polo', 'Hockey', 'Rowing', 'Fencing', 'Equestrianism',\n",
       "       'Shooting', 'Boxing', 'Taekwondo', 'Cycling', 'Diving', 'Canoeing',\n",
       "       'Tennis', 'Modern Pentathlon', 'Golf', 'Softball', 'Archery',\n",
       "       'Volleyball', 'Synchronized Swimming', 'Table Tennis', 'Baseball',\n",
       "       'Rhythmic Gymnastics', 'Rugby Sevens', 'Trampolining',\n",
       "       'Beach Volleyball', 'Triathlon', 'Rugby', 'Lacrosse', 'Polo',\n",
       "       'Cricket', 'Ice Hockey', 'Racquets', 'Motorboating', 'Croquet',\n",
       "       'Figure Skating', 'Jeu De Paume', 'Roque', 'Basque Pelota',\n",
       "       'Alpinism', 'Aeronautics'], dtype=object)"
      ]
     },
     "execution_count": 25,
     "metadata": {},
     "output_type": "execute_result"
    }
   ],
   "source": [
    "summer_sports=olympics[olympics.Season=='Summer'].Sport.unique()\n",
    "summer_sports "
   ]
  },
  {
   "cell_type": "markdown",
   "id": "3ccc928d",
   "metadata": {},
   "source": [
    "### Identify the sport which was played in all winter olympics"
   ]
  },
  {
   "cell_type": "code",
   "execution_count": 29,
   "id": "3af886bc",
   "metadata": {},
   "outputs": [
    {
     "data": {
      "text/plain": [
       "array(['Speed Skating', 'Cross Country Skiing', 'Ice Hockey', 'Biathlon',\n",
       "       'Alpine Skiing', 'Luge', 'Bobsleigh', 'Figure Skating',\n",
       "       'Nordic Combined', 'Freestyle Skiing', 'Ski Jumping', 'Curling',\n",
       "       'Snowboarding', 'Short Track Speed Skating', 'Skeleton',\n",
       "       'Military Ski Patrol', 'Alpinism'], dtype=object)"
      ]
     },
     "execution_count": 29,
     "metadata": {},
     "output_type": "execute_result"
    }
   ],
   "source": [
    "winter_sports=olympics[olympics.Season=='Winter'].Sport.unique()\n",
    "winter_sports"
   ]
  },
  {
   "cell_type": "markdown",
   "id": "09eecccf",
   "metadata": {},
   "source": [
    "### Fetch the total number of sports played in each olympic games"
   ]
  },
  {
   "cell_type": "code",
   "execution_count": 26,
   "id": "9cd3b67e",
   "metadata": {},
   "outputs": [
    {
     "data": {
      "text/plain": [
       "Games\n",
       "1932 Winter     7\n",
       "1960 Winter     8\n",
       "1956 Winter     8\n",
       "1952 Winter     8\n",
       "1928 Winter     8\n",
       "1936 Winter     8\n",
       "1896 Summer     9\n",
       "1948 Winter     9\n",
       "1972 Winter    10\n",
       "1984 Winter    10\n",
       "1968 Winter    10\n",
       "1964 Winter    10\n",
       "1988 Winter    10\n",
       "1980 Winter    10\n",
       "1976 Winter    10\n",
       "1924 Winter    10\n",
       "1994 Winter    12\n",
       "1992 Winter    12\n",
       "1906 Summer    13\n",
       "1998 Winter    14\n",
       "2002 Winter    15\n",
       "2006 Winter    15\n",
       "2014 Winter    15\n",
       "2010 Winter    15\n",
       "1928 Summer    17\n",
       "1912 Summer    17\n",
       "1932 Summer    18\n",
       "1904 Summer    18\n",
       "1952 Summer    19\n",
       "1956 Summer    19\n",
       "1960 Summer    19\n",
       "1968 Summer    20\n",
       "1924 Summer    20\n",
       "1900 Summer    20\n",
       "1948 Summer    20\n",
       "1964 Summer    21\n",
       "1980 Summer    23\n",
       "1976 Summer    23\n",
       "1972 Summer    23\n",
       "1936 Summer    24\n",
       "1908 Summer    24\n",
       "1920 Summer    25\n",
       "1984 Summer    25\n",
       "1988 Summer    27\n",
       "1992 Summer    29\n",
       "1996 Summer    31\n",
       "2012 Summer    32\n",
       "2000 Summer    34\n",
       "2004 Summer    34\n",
       "2008 Summer    34\n",
       "2016 Summer    34\n",
       "Name: Sport, dtype: int64"
      ]
     },
     "execution_count": 26,
     "metadata": {},
     "output_type": "execute_result"
    }
   ],
   "source": [
    "no_sports_in_each_olympic_game=olympics.groupby('Games').nunique().sort_values(by='Sport')['Sport']\n",
    "no_sports_in_each_olympic_game"
   ]
  },
  {
   "cell_type": "markdown",
   "id": "0a14b5a7",
   "metadata": {},
   "source": [
    "### Male and female participants"
   ]
  },
  {
   "cell_type": "code",
   "execution_count": 30,
   "id": "7f501ee7",
   "metadata": {},
   "outputs": [
    {
     "data": {
      "text/plain": [
       "M    195353\n",
       "F     74378\n",
       "Name: Sex, dtype: int64"
      ]
     },
     "execution_count": 30,
     "metadata": {},
     "output_type": "execute_result"
    }
   ],
   "source": [
    "gender_counts=olympics.Sex.value_counts()\n",
    "gender_counts"
   ]
  },
  {
   "cell_type": "code",
   "execution_count": 33,
   "id": "9029ad4c",
   "metadata": {},
   "outputs": [
    {
     "data": {
      "image/png": "[encoded data removed]",
      "text/plain": [
       "<Figure size 864x432 with 1 Axes>"
      ]
     },
     "metadata": {},
     "output_type": "display_data"
    }
   ],
   "source": [
    "plt.figure(figsize=(12,6))\n",
    "plt.title('Gender Distribution')\n",
    "plt.pie(gender_counts,labels=gender_counts.index,autopct='%1.1f%%',startangle=150,shadow=True);"
   ]
  },
  {
   "cell_type": "markdown",
   "id": "23239772",
   "metadata": {},
   "source": [
    "### Total medals"
   ]
  },
  {
   "cell_type": "code",
   "execution_count": 35,
   "id": "f9299d71",
   "metadata": {},
   "outputs": [
    {
     "data": {
      "text/plain": [
       "No medal    229959\n",
       "Gold         13369\n",
       "Bronze       13295\n",
       "Silver       13108\n",
       "Name: Medal, dtype: int64"
      ]
     },
     "execution_count": 35,
     "metadata": {},
     "output_type": "execute_result"
    }
   ],
   "source": [
    "total_medals=olympics['Medal'].value_counts()\n",
    "total_medals"
   ]
  },
  {
   "cell_type": "markdown",
   "id": "fe51a865",
   "metadata": {},
   "source": [
    "### Female participation"
   ]
  },
  {
   "cell_type": "code",
   "execution_count": 36,
   "id": "0e3e40a4",
   "metadata": {},
   "outputs": [],
   "source": [
    "#female participation in the summer\n",
    "femaale_olympics=olympics[(olympics.Sex=='F')&(olympics.Season=='Summer')]"
   ]
  },
  {
   "cell_type": "code",
   "execution_count": 37,
   "id": "369a2586",
   "metadata": {},
   "outputs": [
    {
     "data": {
      "text/plain": [
       "Text(0.5, 1.0, 'Female Participation')"
      ]
     },
     "execution_count": 37,
     "metadata": {},
     "output_type": "execute_result"
    },
    {
     "data": {
      "image/png": "[encoded data removed]",
      "text/plain": [
       "<Figure size 1440x720 with 1 Axes>"
      ]
     },
     "metadata": {},
     "output_type": "display_data"
    }
   ],
   "source": [
    "sns.set(style='darkgrid')\n",
    "plt.figure(figsize=(20,10))\n",
    "sns.countplot(x='Year',data=femaale_olympics,palette='Spectral')\n",
    "plt.title('Female Participation')"
   ]
  },
  {
   "cell_type": "markdown",
   "id": "a8c97d88",
   "metadata": {},
   "source": [
    "### Gold medal atheletes"
   ]
  },
  {
   "cell_type": "code",
   "execution_count": 38,
   "id": "05a21851",
   "metadata": {},
   "outputs": [
    {
     "data": {
      "text/html": [
       "<div>\n",
       "<style scoped>\n",
       "    .dataframe tbody tr th:only-of-type {\n",
       "        vertical-align: middle;\n",
       "    }\n",
       "\n",
       "    .dataframe tbody tr th {\n",
       "        vertical-align: top;\n",
       "    }\n",
       "\n",
       "    .dataframe thead th {\n",
       "        text-align: right;\n",
       "    }\n",
       "</style>\n",
       "<table border=\"1\" class=\"dataframe\">\n",
       "  <thead>\n",
       "    <tr style=\"text-align: right;\">\n",
       "      <th></th>\n",
       "      <th>ID</th>\n",
       "      <th>Name</th>\n",
       "      <th>Sex</th>\n",
       "      <th>Age</th>\n",
       "      <th>Height</th>\n",
       "      <th>Weight</th>\n",
       "      <th>Team</th>\n",
       "      <th>NOC</th>\n",
       "      <th>Games</th>\n",
       "      <th>Year</th>\n",
       "      <th>Season</th>\n",
       "      <th>City</th>\n",
       "      <th>Sport</th>\n",
       "      <th>Event</th>\n",
       "      <th>Medal</th>\n",
       "      <th>region</th>\n",
       "    </tr>\n",
       "  </thead>\n",
       "  <tbody>\n",
       "    <tr>\n",
       "      <th>3</th>\n",
       "      <td>4</td>\n",
       "      <td>Edgar Lindenau Aabye</td>\n",
       "      <td>M</td>\n",
       "      <td>34</td>\n",
       "      <td>170</td>\n",
       "      <td>60</td>\n",
       "      <td>Denmark/Sweden</td>\n",
       "      <td>DEN</td>\n",
       "      <td>1900 Summer</td>\n",
       "      <td>1900</td>\n",
       "      <td>Summer</td>\n",
       "      <td>Paris</td>\n",
       "      <td>Tug-Of-War</td>\n",
       "      <td>Tug-Of-War Men's Tug-Of-War</td>\n",
       "      <td>Gold</td>\n",
       "      <td>Denmark</td>\n",
       "    </tr>\n",
       "    <tr>\n",
       "      <th>42</th>\n",
       "      <td>17</td>\n",
       "      <td>Paavo Johannes Aaltonen</td>\n",
       "      <td>M</td>\n",
       "      <td>28</td>\n",
       "      <td>175</td>\n",
       "      <td>64</td>\n",
       "      <td>Finland</td>\n",
       "      <td>FIN</td>\n",
       "      <td>1948 Summer</td>\n",
       "      <td>1948</td>\n",
       "      <td>Summer</td>\n",
       "      <td>London</td>\n",
       "      <td>Gymnastics</td>\n",
       "      <td>Gymnastics Men's Team All-Around</td>\n",
       "      <td>Gold</td>\n",
       "      <td>Finland</td>\n",
       "    </tr>\n",
       "    <tr>\n",
       "      <th>44</th>\n",
       "      <td>17</td>\n",
       "      <td>Paavo Johannes Aaltonen</td>\n",
       "      <td>M</td>\n",
       "      <td>28</td>\n",
       "      <td>175</td>\n",
       "      <td>64</td>\n",
       "      <td>Finland</td>\n",
       "      <td>FIN</td>\n",
       "      <td>1948 Summer</td>\n",
       "      <td>1948</td>\n",
       "      <td>Summer</td>\n",
       "      <td>London</td>\n",
       "      <td>Gymnastics</td>\n",
       "      <td>Gymnastics Men's Horse Vault</td>\n",
       "      <td>Gold</td>\n",
       "      <td>Finland</td>\n",
       "    </tr>\n",
       "    <tr>\n",
       "      <th>48</th>\n",
       "      <td>17</td>\n",
       "      <td>Paavo Johannes Aaltonen</td>\n",
       "      <td>M</td>\n",
       "      <td>28</td>\n",
       "      <td>175</td>\n",
       "      <td>64</td>\n",
       "      <td>Finland</td>\n",
       "      <td>FIN</td>\n",
       "      <td>1948 Summer</td>\n",
       "      <td>1948</td>\n",
       "      <td>Summer</td>\n",
       "      <td>London</td>\n",
       "      <td>Gymnastics</td>\n",
       "      <td>Gymnastics Men's Pommelled Horse</td>\n",
       "      <td>Gold</td>\n",
       "      <td>Finland</td>\n",
       "    </tr>\n",
       "    <tr>\n",
       "      <th>60</th>\n",
       "      <td>20</td>\n",
       "      <td>Kjetil Andr Aamodt</td>\n",
       "      <td>M</td>\n",
       "      <td>20</td>\n",
       "      <td>176</td>\n",
       "      <td>85</td>\n",
       "      <td>Norway</td>\n",
       "      <td>NOR</td>\n",
       "      <td>1992 Winter</td>\n",
       "      <td>1992</td>\n",
       "      <td>Winter</td>\n",
       "      <td>Albertville</td>\n",
       "      <td>Alpine Skiing</td>\n",
       "      <td>Alpine Skiing Men's Super G</td>\n",
       "      <td>Gold</td>\n",
       "      <td>Norway</td>\n",
       "    </tr>\n",
       "  </tbody>\n",
       "</table>\n",
       "</div>"
      ],
      "text/plain": [
       "    ID                     Name Sex  Age  Height  Weight            Team  NOC  \\\n",
       "3    4     Edgar Lindenau Aabye   M   34     170      60  Denmark/Sweden  DEN   \n",
       "42  17  Paavo Johannes Aaltonen   M   28     175      64         Finland  FIN   \n",
       "44  17  Paavo Johannes Aaltonen   M   28     175      64         Finland  FIN   \n",
       "48  17  Paavo Johannes Aaltonen   M   28     175      64         Finland  FIN   \n",
       "60  20       Kjetil Andr Aamodt   M   20     176      85          Norway  NOR   \n",
       "\n",
       "          Games  Year  Season         City          Sport  \\\n",
       "3   1900 Summer  1900  Summer        Paris     Tug-Of-War   \n",
       "42  1948 Summer  1948  Summer       London     Gymnastics   \n",
       "44  1948 Summer  1948  Summer       London     Gymnastics   \n",
       "48  1948 Summer  1948  Summer       London     Gymnastics   \n",
       "60  1992 Winter  1992  Winter  Albertville  Alpine Skiing   \n",
       "\n",
       "                               Event Medal   region  \n",
       "3        Tug-Of-War Men's Tug-Of-War  Gold  Denmark  \n",
       "42  Gymnastics Men's Team All-Around  Gold  Finland  \n",
       "44      Gymnastics Men's Horse Vault  Gold  Finland  \n",
       "48  Gymnastics Men's Pommelled Horse  Gold  Finland  \n",
       "60       Alpine Skiing Men's Super G  Gold   Norway  "
      ]
     },
     "execution_count": 38,
     "metadata": {},
     "output_type": "execute_result"
    }
   ],
   "source": [
    "gold_medalist=olympics[(olympics.Medal=='Gold')]\n",
    "gold_medalist.head()"
   ]
  },
  {
   "cell_type": "code",
   "execution_count": 40,
   "id": "6be6dda8",
   "metadata": {},
   "outputs": [
    {
     "data": {
      "text/html": [
       "<div>\n",
       "<style scoped>\n",
       "    .dataframe tbody tr th:only-of-type {\n",
       "        vertical-align: middle;\n",
       "    }\n",
       "\n",
       "    .dataframe tbody tr th {\n",
       "        vertical-align: top;\n",
       "    }\n",
       "\n",
       "    .dataframe thead th {\n",
       "        text-align: right;\n",
       "    }\n",
       "</style>\n",
       "<table border=\"1\" class=\"dataframe\">\n",
       "  <thead>\n",
       "    <tr style=\"text-align: right;\">\n",
       "      <th></th>\n",
       "      <th>ID</th>\n",
       "      <th>Name</th>\n",
       "      <th>Sex</th>\n",
       "      <th>Age</th>\n",
       "      <th>Height</th>\n",
       "      <th>Weight</th>\n",
       "      <th>Team</th>\n",
       "      <th>NOC</th>\n",
       "      <th>Games</th>\n",
       "      <th>Year</th>\n",
       "      <th>Season</th>\n",
       "      <th>City</th>\n",
       "      <th>Sport</th>\n",
       "      <th>Event</th>\n",
       "      <th>Medal</th>\n",
       "      <th>region</th>\n",
       "    </tr>\n",
       "  </thead>\n",
       "  <tbody>\n",
       "    <tr>\n",
       "      <th>7498</th>\n",
       "      <td>4189</td>\n",
       "      <td>Nikolaos Andriakopoulos</td>\n",
       "      <td>M</td>\n",
       "      <td>65</td>\n",
       "      <td>180</td>\n",
       "      <td>85</td>\n",
       "      <td>Greece</td>\n",
       "      <td>GRE</td>\n",
       "      <td>1896 Summer</td>\n",
       "      <td>1896</td>\n",
       "      <td>Summer</td>\n",
       "      <td>Athina</td>\n",
       "      <td>Gymnastics</td>\n",
       "      <td>Gymnastics Men's Rope Climbing</td>\n",
       "      <td>Gold</td>\n",
       "      <td>Greece</td>\n",
       "    </tr>\n",
       "    <tr>\n",
       "      <th>104003</th>\n",
       "      <td>52626</td>\n",
       "      <td>Isaac Lazarus Israls</td>\n",
       "      <td>M</td>\n",
       "      <td>63</td>\n",
       "      <td>189</td>\n",
       "      <td>119</td>\n",
       "      <td>Netherlands</td>\n",
       "      <td>NED</td>\n",
       "      <td>1928 Summer</td>\n",
       "      <td>1928</td>\n",
       "      <td>Summer</td>\n",
       "      <td>Amsterdam</td>\n",
       "      <td>Art Competitions</td>\n",
       "      <td>Art Competitions Mixed Painting, Paintings</td>\n",
       "      <td>Gold</td>\n",
       "      <td>Netherlands</td>\n",
       "    </tr>\n",
       "    <tr>\n",
       "      <th>105199</th>\n",
       "      <td>53238</td>\n",
       "      <td>Charles Jacobus</td>\n",
       "      <td>M</td>\n",
       "      <td>64</td>\n",
       "      <td>171</td>\n",
       "      <td>85</td>\n",
       "      <td>United States</td>\n",
       "      <td>USA</td>\n",
       "      <td>1904 Summer</td>\n",
       "      <td>1904</td>\n",
       "      <td>Summer</td>\n",
       "      <td>St. Louis</td>\n",
       "      <td>Roque</td>\n",
       "      <td>Roque Men's Singles</td>\n",
       "      <td>Gold</td>\n",
       "      <td>USA</td>\n",
       "    </tr>\n",
       "    <tr>\n",
       "      <th>190952</th>\n",
       "      <td>95906</td>\n",
       "      <td>Lida Peyton \"Eliza\" Pollock (McMillen-)</td>\n",
       "      <td>F</td>\n",
       "      <td>63</td>\n",
       "      <td>200</td>\n",
       "      <td>107</td>\n",
       "      <td>Cincinnati Archers</td>\n",
       "      <td>USA</td>\n",
       "      <td>1904 Summer</td>\n",
       "      <td>1904</td>\n",
       "      <td>Summer</td>\n",
       "      <td>St. Louis</td>\n",
       "      <td>Archery</td>\n",
       "      <td>Archery Women's Team Round</td>\n",
       "      <td>Gold</td>\n",
       "      <td>USA</td>\n",
       "    </tr>\n",
       "    <tr>\n",
       "      <th>226374</th>\n",
       "      <td>113773</td>\n",
       "      <td>Galen Carter \"G. C.\" Spencer</td>\n",
       "      <td>M</td>\n",
       "      <td>63</td>\n",
       "      <td>165</td>\n",
       "      <td>53</td>\n",
       "      <td>Potomac Archers</td>\n",
       "      <td>USA</td>\n",
       "      <td>1904 Summer</td>\n",
       "      <td>1904</td>\n",
       "      <td>Summer</td>\n",
       "      <td>St. Louis</td>\n",
       "      <td>Archery</td>\n",
       "      <td>Archery Men's Team Round</td>\n",
       "      <td>Gold</td>\n",
       "      <td>USA</td>\n",
       "    </tr>\n",
       "    <tr>\n",
       "      <th>233390</th>\n",
       "      <td>117046</td>\n",
       "      <td>Oscar Gomer Swahn</td>\n",
       "      <td>M</td>\n",
       "      <td>64</td>\n",
       "      <td>173</td>\n",
       "      <td>65</td>\n",
       "      <td>Sweden</td>\n",
       "      <td>SWE</td>\n",
       "      <td>1912 Summer</td>\n",
       "      <td>1912</td>\n",
       "      <td>Summer</td>\n",
       "      <td>Stockholm</td>\n",
       "      <td>Shooting</td>\n",
       "      <td>Shooting Men's Running Target, Single Shot, Team</td>\n",
       "      <td>Gold</td>\n",
       "      <td>Sweden</td>\n",
       "    </tr>\n",
       "    <tr>\n",
       "      <th>261102</th>\n",
       "      <td>130662</td>\n",
       "      <td>Robert W. Williams, Jr.</td>\n",
       "      <td>M</td>\n",
       "      <td>63</td>\n",
       "      <td>185</td>\n",
       "      <td>75</td>\n",
       "      <td>Potomac Archers</td>\n",
       "      <td>USA</td>\n",
       "      <td>1904 Summer</td>\n",
       "      <td>1904</td>\n",
       "      <td>Summer</td>\n",
       "      <td>St. Louis</td>\n",
       "      <td>Archery</td>\n",
       "      <td>Archery Men's Team Round</td>\n",
       "      <td>Gold</td>\n",
       "      <td>USA</td>\n",
       "    </tr>\n",
       "  </tbody>\n",
       "</table>\n",
       "</div>"
      ],
      "text/plain": [
       "            ID                                     Name Sex  Age  Height  \\\n",
       "7498      4189                  Nikolaos Andriakopoulos   M   65     180   \n",
       "104003   52626                     Isaac Lazarus Israls   M   63     189   \n",
       "105199   53238                          Charles Jacobus   M   64     171   \n",
       "190952   95906  Lida Peyton \"Eliza\" Pollock (McMillen-)   F   63     200   \n",
       "226374  113773             Galen Carter \"G. C.\" Spencer   M   63     165   \n",
       "233390  117046                        Oscar Gomer Swahn   M   64     173   \n",
       "261102  130662                  Robert W. Williams, Jr.   M   63     185   \n",
       "\n",
       "        Weight                Team  NOC        Games  Year  Season       City  \\\n",
       "7498        85              Greece  GRE  1896 Summer  1896  Summer     Athina   \n",
       "104003     119         Netherlands  NED  1928 Summer  1928  Summer  Amsterdam   \n",
       "105199      85       United States  USA  1904 Summer  1904  Summer  St. Louis   \n",
       "190952     107  Cincinnati Archers  USA  1904 Summer  1904  Summer  St. Louis   \n",
       "226374      53     Potomac Archers  USA  1904 Summer  1904  Summer  St. Louis   \n",
       "233390      65              Sweden  SWE  1912 Summer  1912  Summer  Stockholm   \n",
       "261102      75     Potomac Archers  USA  1904 Summer  1904  Summer  St. Louis   \n",
       "\n",
       "                   Sport                                             Event  \\\n",
       "7498          Gymnastics                    Gymnastics Men's Rope Climbing   \n",
       "104003  Art Competitions        Art Competitions Mixed Painting, Paintings   \n",
       "105199             Roque                               Roque Men's Singles   \n",
       "190952           Archery                        Archery Women's Team Round   \n",
       "226374           Archery                          Archery Men's Team Round   \n",
       "233390          Shooting  Shooting Men's Running Target, Single Shot, Team   \n",
       "261102           Archery                          Archery Men's Team Round   \n",
       "\n",
       "       Medal       region  \n",
       "7498    Gold       Greece  \n",
       "104003  Gold  Netherlands  \n",
       "105199  Gold          USA  \n",
       "190952  Gold          USA  \n",
       "226374  Gold          USA  \n",
       "233390  Gold       Sweden  \n",
       "261102  Gold          USA  "
      ]
     },
     "execution_count": 40,
     "metadata": {},
     "output_type": "execute_result"
    }
   ],
   "source": [
    "# Gold medalist above the age of 60\n",
    "gold_medalist_above_60=olympics[(olympics.Medal=='Gold')&(olympics.Age>60)]\n",
    "gold_medalist_above_60"
   ]
  },
  {
   "cell_type": "markdown",
   "id": "50b8d007",
   "metadata": {},
   "source": [
    "### Gold medals from each country"
   ]
  },
  {
   "cell_type": "code",
   "execution_count": 47,
   "id": "b3426c56",
   "metadata": {},
   "outputs": [
    {
     "data": {
      "text/html": [
       "<div>\n",
       "<style scoped>\n",
       "    .dataframe tbody tr th:only-of-type {\n",
       "        vertical-align: middle;\n",
       "    }\n",
       "\n",
       "    .dataframe tbody tr th {\n",
       "        vertical-align: top;\n",
       "    }\n",
       "\n",
       "    .dataframe thead th {\n",
       "        text-align: right;\n",
       "    }\n",
       "</style>\n",
       "<table border=\"1\" class=\"dataframe\">\n",
       "  <thead>\n",
       "    <tr style=\"text-align: right;\">\n",
       "      <th></th>\n",
       "      <th>index</th>\n",
       "      <th>Medal</th>\n",
       "    </tr>\n",
       "  </thead>\n",
       "  <tbody>\n",
       "    <tr>\n",
       "      <th>0</th>\n",
       "      <td>USA</td>\n",
       "      <td>2638</td>\n",
       "    </tr>\n",
       "    <tr>\n",
       "      <th>1</th>\n",
       "      <td>Russia</td>\n",
       "      <td>1599</td>\n",
       "    </tr>\n",
       "    <tr>\n",
       "      <th>2</th>\n",
       "      <td>Germany</td>\n",
       "      <td>1301</td>\n",
       "    </tr>\n",
       "    <tr>\n",
       "      <th>3</th>\n",
       "      <td>UK</td>\n",
       "      <td>677</td>\n",
       "    </tr>\n",
       "    <tr>\n",
       "      <th>4</th>\n",
       "      <td>Italy</td>\n",
       "      <td>575</td>\n",
       "    </tr>\n",
       "  </tbody>\n",
       "</table>\n",
       "</div>"
      ],
      "text/plain": [
       "     index  Medal\n",
       "0      USA   2638\n",
       "1   Russia   1599\n",
       "2  Germany   1301\n",
       "3       UK    677\n",
       "4    Italy    575"
      ]
     },
     "execution_count": 47,
     "metadata": {},
     "output_type": "execute_result"
    }
   ],
   "source": [
    "gold_medalist.region.value_counts().reset_index(name='Medal').head()\n",
    "#top 5 gold medals"
   ]
  },
  {
   "cell_type": "code",
   "execution_count": 49,
   "id": "a53857b1",
   "metadata": {},
   "outputs": [
    {
     "data": {
      "text/plain": [
       "Text(0.5, 1.0, 'Gold Medals per Country')"
      ]
     },
     "execution_count": 49,
     "metadata": {},
     "output_type": "execute_result"
    },
    {
     "data": {
      "image/png": "[encoded data removed]",
      "text/plain": [
       "<Figure size 360x360 with 1 Axes>"
      ]
     },
     "metadata": {},
     "output_type": "display_data"
    }
   ],
   "source": [
    "total_gold=gold_medalist.region.value_counts().reset_index(name='Medal').head(5)\n",
    "p=sns.catplot(x='index',y='Medal',data=total_gold,height=5,kind='bar',palette='rocket')\n",
    "p.despine(left=True)\n",
    "p.set_xlabels('Top 5 countries')\n",
    "p.set_ylabels('Number of medals')\n",
    "plt.title('Gold Medals per Country')"
   ]
  },
  {
   "cell_type": "markdown",
   "id": "8b70fa0c",
   "metadata": {},
   "source": [
    "### Silver medals from each country"
   ]
  },
  {
   "cell_type": "code",
   "execution_count": 53,
   "id": "e2220b97",
   "metadata": {},
   "outputs": [
    {
     "data": {
      "text/html": [
       "<div>\n",
       "<style scoped>\n",
       "    .dataframe tbody tr th:only-of-type {\n",
       "        vertical-align: middle;\n",
       "    }\n",
       "\n",
       "    .dataframe tbody tr th {\n",
       "        vertical-align: top;\n",
       "    }\n",
       "\n",
       "    .dataframe thead th {\n",
       "        text-align: right;\n",
       "    }\n",
       "</style>\n",
       "<table border=\"1\" class=\"dataframe\">\n",
       "  <thead>\n",
       "    <tr style=\"text-align: right;\">\n",
       "      <th></th>\n",
       "      <th>index</th>\n",
       "      <th>Medal</th>\n",
       "    </tr>\n",
       "  </thead>\n",
       "  <tbody>\n",
       "    <tr>\n",
       "      <th>0</th>\n",
       "      <td>USA</td>\n",
       "      <td>1641</td>\n",
       "    </tr>\n",
       "    <tr>\n",
       "      <th>1</th>\n",
       "      <td>Germany</td>\n",
       "      <td>1195</td>\n",
       "    </tr>\n",
       "    <tr>\n",
       "      <th>2</th>\n",
       "      <td>Russia</td>\n",
       "      <td>1170</td>\n",
       "    </tr>\n",
       "    <tr>\n",
       "      <th>3</th>\n",
       "      <td>UK</td>\n",
       "      <td>739</td>\n",
       "    </tr>\n",
       "    <tr>\n",
       "      <th>4</th>\n",
       "      <td>France</td>\n",
       "      <td>602</td>\n",
       "    </tr>\n",
       "  </tbody>\n",
       "</table>\n",
       "</div>"
      ],
      "text/plain": [
       "     index  Medal\n",
       "0      USA   1641\n",
       "1  Germany   1195\n",
       "2   Russia   1170\n",
       "3       UK    739\n",
       "4   France    602"
      ]
     },
     "execution_count": 53,
     "metadata": {},
     "output_type": "execute_result"
    }
   ],
   "source": [
    "total_silver=silver_medal.region.value_counts().reset_index(name='Medal').head(5)\n",
    "total_silver"
   ]
  },
  {
   "cell_type": "code",
   "execution_count": 54,
   "id": "a3487a66",
   "metadata": {},
   "outputs": [
    {
     "data": {
      "text/plain": [
       "Text(0.5, 1.0, 'Silver Medals per Country')"
      ]
     },
     "execution_count": 54,
     "metadata": {},
     "output_type": "execute_result"
    },
    {
     "data": {
      "image/png": "[encoded data removed]",
      "text/plain": [
       "<Figure size 360x360 with 1 Axes>"
      ]
     },
     "metadata": {},
     "output_type": "display_data"
    }
   ],
   "source": [
    "silver_medal=olympics[(olympics.Medal=='Silver')]\n",
    "total_silver=silver_medal.region.value_counts().reset_index(name='Medal').head(5)\n",
    "p=sns.catplot(x='index',y='Medal',data=total_silver,height=5,kind='bar',palette='mako')\n",
    "p.despine(left=True)\n",
    "p.set_xlabels('Top 5 countries')\n",
    "p.set_ylabels('Number of silver medals')\n",
    "plt.title('Silver Medals per Country')"
   ]
  },
  {
   "cell_type": "code",
   "execution_count": 57,
   "id": "1eeee9ee",
   "metadata": {},
   "outputs": [
    {
     "data": {
      "text/plain": [
       "Text(0.5, 1.0, 'Bronze Medals per Country')"
      ]
     },
     "execution_count": 57,
     "metadata": {},
     "output_type": "execute_result"
    },
    {
     "data": {
      "image/png": "[encoded data removed]",
      "text/plain": [
       "<Figure size 360x360 with 1 Axes>"
      ]
     },
     "metadata": {},
     "output_type": "display_data"
    }
   ],
   "source": [
    "bronze_medal=olympics[(olympics.Medal=='Bronze')]\n",
    "total_bronze=bronze_medal.region.value_counts().reset_index(name='Medal').head(5)\n",
    "p=sns.catplot(x='index',y='Medal',data=total_bronze,height=5,kind='bar',palette='mako')\n",
    "p.despine(left=True)\n",
    "p.set_xlabels('Top 5 countries')\n",
    "p.set_ylabels('Number of bronze medals')\n",
    "plt.title('Bronze Medals per Country')"
   ]
  },
  {
   "cell_type": "markdown",
   "id": "4c6144d9",
   "metadata": {},
   "source": [
    "### Rio olympics"
   ]
  },
  {
   "cell_type": "code",
   "execution_count": 59,
   "id": "90ee82cc",
   "metadata": {},
   "outputs": [
    {
     "data": {
      "text/plain": [
       "United States    137\n",
       "Great Britain     64\n",
       "Russia            50\n",
       "Germany           47\n",
       "China             44\n",
       "Brazil            34\n",
       "Australia         23\n",
       "Argentina         21\n",
       "France            20\n",
       "Japan             17\n",
       "Name: Team, dtype: int64"
      ]
     },
     "execution_count": 59,
     "metadata": {},
     "output_type": "execute_result"
    }
   ],
   "source": [
    "# medals in rio olympics\n",
    "# rio olympics is 2016 olympics\n",
    "team_names=olympics[(olympics.Year==2016)&(olympics.Medal=='Gold')].Team\n",
    "team_names.value_counts().head(10)\n",
    "\n"
   ]
  },
  {
   "cell_type": "code",
   "execution_count": 60,
   "id": "9805ce59",
   "metadata": {},
   "outputs": [
    {
     "data": {
      "image/png": "[encoded data removed]",
      "text/plain": [
       "<Figure size 432x288 with 1 Axes>"
      ]
     },
     "metadata": {},
     "output_type": "display_data"
    }
   ],
   "source": [
    "sns.barplot(x=team_names.value_counts().head(20),y=team_names.value_counts().head(20).index)\n",
    "plt.ylabel(None);\n",
    "plt.xlabel('Countrywise gold medals for the year 2016');"
   ]
  },
  {
   "cell_type": "code",
   "execution_count": null,
   "id": "3a4921a7",
   "metadata": {},
   "outputs": [],
   "source": []
  },
  {
   "cell_type": "code",
   "execution_count": null,
   "id": "984dba56",
   "metadata": {},
   "outputs": [],
   "source": []
  }
 ],
 "metadata": {
  "kernelspec": {
   "display_name": "Python 3",
   "language": "python",
   "name": "python3"
  },
  "language_info": {
   "codemirror_mode": {
    "name": "ipython",
    "version": 3
   },
   "file_extension": ".py",
   "mimetype": "text/x-python",
   "name": "python",
   "nbconvert_exporter": "python",
   "pygments_lexer": "ipython3",
   "version": "3.6.8"
  }
 },
 "nbformat": 4,
 "nbformat_minor": 5
}
